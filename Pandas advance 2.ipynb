{
 "cells": [
  {
   "cell_type": "code",
   "execution_count": null,
   "id": "4c79cc38-5e09-45e6-9963-84a2868c0f0a",
   "metadata": {},
   "outputs": [],
   "source": []
  },
  {
   "cell_type": "code",
   "execution_count": 1,
   "id": "75245fb8-52c8-4e48-b21b-2975205f3b9d",
   "metadata": {},
   "outputs": [],
   "source": [
    "import pandas as pd"
   ]
  },
  {
   "cell_type": "code",
   "execution_count": 2,
   "id": "afce9851-7f89-47f7-9995-a428955fca82",
   "metadata": {},
   "outputs": [],
   "source": [
    "df = pd.read_csv(\"https://raw.githubusercontent.com/datasciencedojo/datasets/master/titanic.csv\")"
   ]
  },
  {
   "cell_type": "code",
   "execution_count": 3,
   "id": "0ee011b7-82ec-4c2c-8316-58fc2db711cc",
   "metadata": {},
   "outputs": [
    {
     "data": {
      "text/html": [
       "<div>\n",
       "<style scoped>\n",
       "    .dataframe tbody tr th:only-of-type {\n",
       "        vertical-align: middle;\n",
       "    }\n",
       "\n",
       "    .dataframe tbody tr th {\n",
       "        vertical-align: top;\n",
       "    }\n",
       "\n",
       "    .dataframe thead th {\n",
       "        text-align: right;\n",
       "    }\n",
       "</style>\n",
       "<table border=\"1\" class=\"dataframe\">\n",
       "  <thead>\n",
       "    <tr style=\"text-align: right;\">\n",
       "      <th></th>\n",
       "      <th>PassengerId</th>\n",
       "      <th>Survived</th>\n",
       "      <th>Pclass</th>\n",
       "      <th>Name</th>\n",
       "      <th>Sex</th>\n",
       "      <th>Age</th>\n",
       "      <th>SibSp</th>\n",
       "      <th>Parch</th>\n",
       "      <th>Ticket</th>\n",
       "      <th>Fare</th>\n",
       "      <th>Cabin</th>\n",
       "      <th>Embarked</th>\n",
       "    </tr>\n",
       "  </thead>\n",
       "  <tbody>\n",
       "    <tr>\n",
       "      <th>0</th>\n",
       "      <td>1</td>\n",
       "      <td>0</td>\n",
       "      <td>3</td>\n",
       "      <td>Braund, Mr. Owen Harris</td>\n",
       "      <td>male</td>\n",
       "      <td>22.0</td>\n",
       "      <td>1</td>\n",
       "      <td>0</td>\n",
       "      <td>A/5 21171</td>\n",
       "      <td>7.2500</td>\n",
       "      <td>NaN</td>\n",
       "      <td>S</td>\n",
       "    </tr>\n",
       "    <tr>\n",
       "      <th>1</th>\n",
       "      <td>2</td>\n",
       "      <td>1</td>\n",
       "      <td>1</td>\n",
       "      <td>Cumings, Mrs. John Bradley (Florence Briggs Th...</td>\n",
       "      <td>female</td>\n",
       "      <td>38.0</td>\n",
       "      <td>1</td>\n",
       "      <td>0</td>\n",
       "      <td>PC 17599</td>\n",
       "      <td>71.2833</td>\n",
       "      <td>C85</td>\n",
       "      <td>C</td>\n",
       "    </tr>\n",
       "    <tr>\n",
       "      <th>2</th>\n",
       "      <td>3</td>\n",
       "      <td>1</td>\n",
       "      <td>3</td>\n",
       "      <td>Heikkinen, Miss. Laina</td>\n",
       "      <td>female</td>\n",
       "      <td>26.0</td>\n",
       "      <td>0</td>\n",
       "      <td>0</td>\n",
       "      <td>STON/O2. 3101282</td>\n",
       "      <td>7.9250</td>\n",
       "      <td>NaN</td>\n",
       "      <td>S</td>\n",
       "    </tr>\n",
       "    <tr>\n",
       "      <th>3</th>\n",
       "      <td>4</td>\n",
       "      <td>1</td>\n",
       "      <td>1</td>\n",
       "      <td>Futrelle, Mrs. Jacques Heath (Lily May Peel)</td>\n",
       "      <td>female</td>\n",
       "      <td>35.0</td>\n",
       "      <td>1</td>\n",
       "      <td>0</td>\n",
       "      <td>113803</td>\n",
       "      <td>53.1000</td>\n",
       "      <td>C123</td>\n",
       "      <td>S</td>\n",
       "    </tr>\n",
       "    <tr>\n",
       "      <th>4</th>\n",
       "      <td>5</td>\n",
       "      <td>0</td>\n",
       "      <td>3</td>\n",
       "      <td>Allen, Mr. William Henry</td>\n",
       "      <td>male</td>\n",
       "      <td>35.0</td>\n",
       "      <td>0</td>\n",
       "      <td>0</td>\n",
       "      <td>373450</td>\n",
       "      <td>8.0500</td>\n",
       "      <td>NaN</td>\n",
       "      <td>S</td>\n",
       "    </tr>\n",
       "  </tbody>\n",
       "</table>\n",
       "</div>"
      ],
      "text/plain": [
       "   PassengerId  Survived  Pclass  \\\n",
       "0            1         0       3   \n",
       "1            2         1       1   \n",
       "2            3         1       3   \n",
       "3            4         1       1   \n",
       "4            5         0       3   \n",
       "\n",
       "                                                Name     Sex   Age  SibSp  \\\n",
       "0                            Braund, Mr. Owen Harris    male  22.0      1   \n",
       "1  Cumings, Mrs. John Bradley (Florence Briggs Th...  female  38.0      1   \n",
       "2                             Heikkinen, Miss. Laina  female  26.0      0   \n",
       "3       Futrelle, Mrs. Jacques Heath (Lily May Peel)  female  35.0      1   \n",
       "4                           Allen, Mr. William Henry    male  35.0      0   \n",
       "\n",
       "   Parch            Ticket     Fare Cabin Embarked  \n",
       "0      0         A/5 21171   7.2500   NaN        S  \n",
       "1      0          PC 17599  71.2833   C85        C  \n",
       "2      0  STON/O2. 3101282   7.9250   NaN        S  \n",
       "3      0            113803  53.1000  C123        S  \n",
       "4      0            373450   8.0500   NaN        S  "
      ]
     },
     "execution_count": 3,
     "metadata": {},
     "output_type": "execute_result"
    }
   ],
   "source": [
    "df.head()"
   ]
  },
  {
   "cell_type": "code",
   "execution_count": 4,
   "id": "20d6edcf-c38b-4fa2-a7ec-5784f1dfb009",
   "metadata": {},
   "outputs": [
    {
     "data": {
      "text/plain": [
       "Index(['PassengerId', 'Survived', 'Pclass', 'Name', 'Sex', 'Age', 'SibSp',\n",
       "       'Parch', 'Ticket', 'Fare', 'Cabin', 'Embarked'],\n",
       "      dtype='object')"
      ]
     },
     "execution_count": 4,
     "metadata": {},
     "output_type": "execute_result"
    }
   ],
   "source": [
    "df.columns"
   ]
  },
  {
   "cell_type": "code",
   "execution_count": 8,
   "id": "3cc65103-12be-4376-ac25-4492a30dc28f",
   "metadata": {},
   "outputs": [],
   "source": [
    "#Type = Series\n",
    "s = df['Name'][1:11]"
   ]
  },
  {
   "cell_type": "code",
   "execution_count": 9,
   "id": "880aaaec-ead5-4036-9314-7403e2d42209",
   "metadata": {},
   "outputs": [
    {
     "data": {
      "text/plain": [
       "1     Cumings, Mrs. John Bradley (Florence Briggs Th...\n",
       "2                                Heikkinen, Miss. Laina\n",
       "3          Futrelle, Mrs. Jacques Heath (Lily May Peel)\n",
       "4                              Allen, Mr. William Henry\n",
       "5                                      Moran, Mr. James\n",
       "6                               McCarthy, Mr. Timothy J\n",
       "7                        Palsson, Master. Gosta Leonard\n",
       "8     Johnson, Mrs. Oscar W (Elisabeth Vilhelmina Berg)\n",
       "9                   Nasser, Mrs. Nicholas (Adele Achem)\n",
       "10                      Sandstrom, Miss. Marguerite Rut\n",
       "Name: Name, dtype: object"
      ]
     },
     "execution_count": 9,
     "metadata": {},
     "output_type": "execute_result"
    }
   ],
   "source": [
    "s"
   ]
  },
  {
   "cell_type": "code",
   "execution_count": 10,
   "id": "8cad5f90-652f-4aba-90d1-b95def8c1939",
   "metadata": {},
   "outputs": [],
   "source": [
    "#Type = Dataframe\n",
    "\n",
    "s2 = df[['Name']][1:11]"
   ]
  },
  {
   "cell_type": "code",
   "execution_count": 11,
   "id": "f277a893-f9fb-474c-977a-14bf510561d9",
   "metadata": {},
   "outputs": [
    {
     "data": {
      "text/html": [
       "<div>\n",
       "<style scoped>\n",
       "    .dataframe tbody tr th:only-of-type {\n",
       "        vertical-align: middle;\n",
       "    }\n",
       "\n",
       "    .dataframe tbody tr th {\n",
       "        vertical-align: top;\n",
       "    }\n",
       "\n",
       "    .dataframe thead th {\n",
       "        text-align: right;\n",
       "    }\n",
       "</style>\n",
       "<table border=\"1\" class=\"dataframe\">\n",
       "  <thead>\n",
       "    <tr style=\"text-align: right;\">\n",
       "      <th></th>\n",
       "      <th>Name</th>\n",
       "    </tr>\n",
       "  </thead>\n",
       "  <tbody>\n",
       "    <tr>\n",
       "      <th>1</th>\n",
       "      <td>Cumings, Mrs. John Bradley (Florence Briggs Th...</td>\n",
       "    </tr>\n",
       "    <tr>\n",
       "      <th>2</th>\n",
       "      <td>Heikkinen, Miss. Laina</td>\n",
       "    </tr>\n",
       "    <tr>\n",
       "      <th>3</th>\n",
       "      <td>Futrelle, Mrs. Jacques Heath (Lily May Peel)</td>\n",
       "    </tr>\n",
       "    <tr>\n",
       "      <th>4</th>\n",
       "      <td>Allen, Mr. William Henry</td>\n",
       "    </tr>\n",
       "    <tr>\n",
       "      <th>5</th>\n",
       "      <td>Moran, Mr. James</td>\n",
       "    </tr>\n",
       "    <tr>\n",
       "      <th>6</th>\n",
       "      <td>McCarthy, Mr. Timothy J</td>\n",
       "    </tr>\n",
       "    <tr>\n",
       "      <th>7</th>\n",
       "      <td>Palsson, Master. Gosta Leonard</td>\n",
       "    </tr>\n",
       "    <tr>\n",
       "      <th>8</th>\n",
       "      <td>Johnson, Mrs. Oscar W (Elisabeth Vilhelmina Berg)</td>\n",
       "    </tr>\n",
       "    <tr>\n",
       "      <th>9</th>\n",
       "      <td>Nasser, Mrs. Nicholas (Adele Achem)</td>\n",
       "    </tr>\n",
       "    <tr>\n",
       "      <th>10</th>\n",
       "      <td>Sandstrom, Miss. Marguerite Rut</td>\n",
       "    </tr>\n",
       "  </tbody>\n",
       "</table>\n",
       "</div>"
      ],
      "text/plain": [
       "                                                 Name\n",
       "1   Cumings, Mrs. John Bradley (Florence Briggs Th...\n",
       "2                              Heikkinen, Miss. Laina\n",
       "3        Futrelle, Mrs. Jacques Heath (Lily May Peel)\n",
       "4                            Allen, Mr. William Henry\n",
       "5                                    Moran, Mr. James\n",
       "6                             McCarthy, Mr. Timothy J\n",
       "7                      Palsson, Master. Gosta Leonard\n",
       "8   Johnson, Mrs. Oscar W (Elisabeth Vilhelmina Berg)\n",
       "9                 Nasser, Mrs. Nicholas (Adele Achem)\n",
       "10                    Sandstrom, Miss. Marguerite Rut"
      ]
     },
     "execution_count": 11,
     "metadata": {},
     "output_type": "execute_result"
    }
   ],
   "source": [
    "s2"
   ]
  },
  {
   "cell_type": "code",
   "execution_count": 12,
   "id": "bd0ca494-2600-4eeb-8265-fde14cd6279e",
   "metadata": {},
   "outputs": [
    {
     "data": {
      "text/plain": [
       "pandas.core.series.Series"
      ]
     },
     "execution_count": 12,
     "metadata": {},
     "output_type": "execute_result"
    }
   ],
   "source": [
    "type(s)"
   ]
  },
  {
   "cell_type": "code",
   "execution_count": 13,
   "id": "a683bc19-83c8-484b-b2f7-d2c3f69a43e7",
   "metadata": {},
   "outputs": [
    {
     "data": {
      "text/plain": [
       "pandas.core.frame.DataFrame"
      ]
     },
     "execution_count": 13,
     "metadata": {},
     "output_type": "execute_result"
    }
   ],
   "source": [
    "type(s2)"
   ]
  },
  {
   "cell_type": "code",
   "execution_count": 16,
   "id": "9dfbf634-a16f-4caf-8c06-e0ea14ad255c",
   "metadata": {},
   "outputs": [
    {
     "data": {
      "text/plain": [
       "10"
      ]
     },
     "execution_count": 16,
     "metadata": {},
     "output_type": "execute_result"
    }
   ],
   "source": [
    "len(s)"
   ]
  },
  {
   "cell_type": "code",
   "execution_count": 19,
   "id": "46f09a21-b1c1-4dfb-98d1-ffd51e127038",
   "metadata": {},
   "outputs": [],
   "source": [
    "#We can give our own index in own alphabet or word or number\n",
    "\n",
    "l = ['shadab', 'a', 'b', 'c', 'py', 'p', 'q', 'r', 's', 't']"
   ]
  },
  {
   "cell_type": "code",
   "execution_count": 43,
   "id": "d8a5f952-00bf-4a21-8dda-f4bfe1595b05",
   "metadata": {},
   "outputs": [],
   "source": [
    "s1 = pd.Series(list(s),index = l)"
   ]
  },
  {
   "cell_type": "code",
   "execution_count": 44,
   "id": "7cc235ea-8107-4be8-8536-d2379643835e",
   "metadata": {},
   "outputs": [
    {
     "data": {
      "text/plain": [
       "shadab    Cumings, Mrs. John Bradley (Florence Briggs Th...\n",
       "a                                    Heikkinen, Miss. Laina\n",
       "b              Futrelle, Mrs. Jacques Heath (Lily May Peel)\n",
       "c                                  Allen, Mr. William Henry\n",
       "py                                         Moran, Mr. James\n",
       "p                                   McCarthy, Mr. Timothy J\n",
       "q                            Palsson, Master. Gosta Leonard\n",
       "r         Johnson, Mrs. Oscar W (Elisabeth Vilhelmina Berg)\n",
       "s                       Nasser, Mrs. Nicholas (Adele Achem)\n",
       "t                           Sandstrom, Miss. Marguerite Rut\n",
       "dtype: object"
      ]
     },
     "execution_count": 44,
     "metadata": {},
     "output_type": "execute_result"
    }
   ],
   "source": [
    "s1"
   ]
  },
  {
   "cell_type": "code",
   "execution_count": 45,
   "id": "81275630-abe5-42de-ab54-db1b58472c10",
   "metadata": {},
   "outputs": [],
   "source": [
    "s2 = pd.DataFrame(list(s),index = l) #Doing the same operation in dataframe "
   ]
  },
  {
   "cell_type": "code",
   "execution_count": 46,
   "id": "107b7baf-e762-4319-afbe-5902f7fc303c",
   "metadata": {},
   "outputs": [
    {
     "data": {
      "text/html": [
       "<div>\n",
       "<style scoped>\n",
       "    .dataframe tbody tr th:only-of-type {\n",
       "        vertical-align: middle;\n",
       "    }\n",
       "\n",
       "    .dataframe tbody tr th {\n",
       "        vertical-align: top;\n",
       "    }\n",
       "\n",
       "    .dataframe thead th {\n",
       "        text-align: right;\n",
       "    }\n",
       "</style>\n",
       "<table border=\"1\" class=\"dataframe\">\n",
       "  <thead>\n",
       "    <tr style=\"text-align: right;\">\n",
       "      <th></th>\n",
       "      <th>0</th>\n",
       "    </tr>\n",
       "  </thead>\n",
       "  <tbody>\n",
       "    <tr>\n",
       "      <th>shadab</th>\n",
       "      <td>Cumings, Mrs. John Bradley (Florence Briggs Th...</td>\n",
       "    </tr>\n",
       "    <tr>\n",
       "      <th>a</th>\n",
       "      <td>Heikkinen, Miss. Laina</td>\n",
       "    </tr>\n",
       "    <tr>\n",
       "      <th>b</th>\n",
       "      <td>Futrelle, Mrs. Jacques Heath (Lily May Peel)</td>\n",
       "    </tr>\n",
       "    <tr>\n",
       "      <th>c</th>\n",
       "      <td>Allen, Mr. William Henry</td>\n",
       "    </tr>\n",
       "    <tr>\n",
       "      <th>py</th>\n",
       "      <td>Moran, Mr. James</td>\n",
       "    </tr>\n",
       "    <tr>\n",
       "      <th>p</th>\n",
       "      <td>McCarthy, Mr. Timothy J</td>\n",
       "    </tr>\n",
       "    <tr>\n",
       "      <th>q</th>\n",
       "      <td>Palsson, Master. Gosta Leonard</td>\n",
       "    </tr>\n",
       "    <tr>\n",
       "      <th>r</th>\n",
       "      <td>Johnson, Mrs. Oscar W (Elisabeth Vilhelmina Berg)</td>\n",
       "    </tr>\n",
       "    <tr>\n",
       "      <th>s</th>\n",
       "      <td>Nasser, Mrs. Nicholas (Adele Achem)</td>\n",
       "    </tr>\n",
       "    <tr>\n",
       "      <th>t</th>\n",
       "      <td>Sandstrom, Miss. Marguerite Rut</td>\n",
       "    </tr>\n",
       "  </tbody>\n",
       "</table>\n",
       "</div>"
      ],
      "text/plain": [
       "                                                        0\n",
       "shadab  Cumings, Mrs. John Bradley (Florence Briggs Th...\n",
       "a                                  Heikkinen, Miss. Laina\n",
       "b            Futrelle, Mrs. Jacques Heath (Lily May Peel)\n",
       "c                                Allen, Mr. William Henry\n",
       "py                                       Moran, Mr. James\n",
       "p                                 McCarthy, Mr. Timothy J\n",
       "q                          Palsson, Master. Gosta Leonard\n",
       "r       Johnson, Mrs. Oscar W (Elisabeth Vilhelmina Berg)\n",
       "s                     Nasser, Mrs. Nicholas (Adele Achem)\n",
       "t                         Sandstrom, Miss. Marguerite Rut"
      ]
     },
     "execution_count": 46,
     "metadata": {},
     "output_type": "execute_result"
    }
   ],
   "source": [
    "s2"
   ]
  },
  {
   "cell_type": "code",
   "execution_count": 47,
   "id": "440d09dc-e51c-45c3-8412-1ab05a24fa2d",
   "metadata": {},
   "outputs": [
    {
     "data": {
      "text/plain": [
       "'Heikkinen, Miss. Laina'"
      ]
     },
     "execution_count": 47,
     "metadata": {},
     "output_type": "execute_result"
    }
   ],
   "source": [
    "s1[1]"
   ]
  },
  {
   "cell_type": "code",
   "execution_count": 48,
   "id": "e063f847-9eb1-496a-a07c-b5a89650e43d",
   "metadata": {},
   "outputs": [
    {
     "data": {
      "text/plain": [
       "'Cumings, Mrs. John Bradley (Florence Briggs Thayer)'"
      ]
     },
     "execution_count": 48,
     "metadata": {},
     "output_type": "execute_result"
    }
   ],
   "source": [
    "s1['shadab'] #We can fetch the element from the given index"
   ]
  },
  {
   "cell_type": "code",
   "execution_count": 49,
   "id": "52c91994-5790-4aa9-9f8b-6ffe577e61d5",
   "metadata": {},
   "outputs": [
    {
     "data": {
      "text/plain": [
       "'Cumings, Mrs. John Bradley (Florence Briggs Thayer)'"
      ]
     },
     "execution_count": 49,
     "metadata": {},
     "output_type": "execute_result"
    }
   ],
   "source": [
    "s1[0] #Python alway remember the default index which can be used anytime "
   ]
  },
  {
   "cell_type": "code",
   "execution_count": 50,
   "id": "725a2fd5-b8ee-4f6b-b76b-a877d9af52da",
   "metadata": {},
   "outputs": [
    {
     "name": "stderr",
     "output_type": "stream",
     "text": [
      "/tmp/ipykernel_70/983784494.py:1: FutureWarning: The series.append method is deprecated and will be removed from pandas in a future version. Use pandas.concat instead.\n",
      "  s3 = s1.append(s)\n"
     ]
    }
   ],
   "source": [
    "s3 = s1.append(s)"
   ]
  },
  {
   "cell_type": "code",
   "execution_count": 52,
   "id": "9dc61808-6876-4742-9374-a3ab1afb1e80",
   "metadata": {},
   "outputs": [
    {
     "data": {
      "text/plain": [
       "shadab    Cumings, Mrs. John Bradley (Florence Briggs Th...\n",
       "a                                    Heikkinen, Miss. Laina\n",
       "b              Futrelle, Mrs. Jacques Heath (Lily May Peel)\n",
       "c                                  Allen, Mr. William Henry\n",
       "py                                         Moran, Mr. James\n",
       "p                                   McCarthy, Mr. Timothy J\n",
       "q                            Palsson, Master. Gosta Leonard\n",
       "r         Johnson, Mrs. Oscar W (Elisabeth Vilhelmina Berg)\n",
       "s                       Nasser, Mrs. Nicholas (Adele Achem)\n",
       "t                           Sandstrom, Miss. Marguerite Rut\n",
       "1         Cumings, Mrs. John Bradley (Florence Briggs Th...\n",
       "2                                    Heikkinen, Miss. Laina\n",
       "3              Futrelle, Mrs. Jacques Heath (Lily May Peel)\n",
       "4                                  Allen, Mr. William Henry\n",
       "5                                          Moran, Mr. James\n",
       "6                                   McCarthy, Mr. Timothy J\n",
       "7                            Palsson, Master. Gosta Leonard\n",
       "8         Johnson, Mrs. Oscar W (Elisabeth Vilhelmina Berg)\n",
       "9                       Nasser, Mrs. Nicholas (Adele Achem)\n",
       "10                          Sandstrom, Miss. Marguerite Rut\n",
       "dtype: object"
      ]
     },
     "execution_count": 52,
     "metadata": {},
     "output_type": "execute_result"
    }
   ],
   "source": [
    "s3 #Can append series only"
   ]
  },
  {
   "cell_type": "code",
   "execution_count": 53,
   "id": "c92805ea-35f3-4a33-a28b-872692acb63c",
   "metadata": {},
   "outputs": [
    {
     "data": {
      "text/plain": [
       "'Cumings, Mrs. John Bradley (Florence Briggs Thayer)'"
      ]
     },
     "execution_count": 53,
     "metadata": {},
     "output_type": "execute_result"
    }
   ],
   "source": [
    "s3[1] #taking default indeces"
   ]
  },
  {
   "cell_type": "code",
   "execution_count": 55,
   "id": "3e8461db-9d6a-4828-8b46-9fd88f4e11c7",
   "metadata": {},
   "outputs": [
    {
     "data": {
      "text/plain": [
       "'Cumings, Mrs. John Bradley (Florence Briggs Thayer)'"
      ]
     },
     "execution_count": 55,
     "metadata": {},
     "output_type": "execute_result"
    }
   ],
   "source": [
    "s3['shadab'] #taking the user defined indeces"
   ]
  },
  {
   "cell_type": "code",
   "execution_count": 56,
   "id": "a0ea9823-7bc6-4f6c-9fb2-1b44b0f9976c",
   "metadata": {},
   "outputs": [
    {
     "data": {
      "text/plain": [
       "0    3\n",
       "1    4\n",
       "2    5\n",
       "3    6\n",
       "dtype: int64"
      ]
     },
     "execution_count": 56,
     "metadata": {},
     "output_type": "execute_result"
    }
   ],
   "source": [
    "pd.Series([3,4,5,6]) #Making a series without index"
   ]
  },
  {
   "cell_type": "code",
   "execution_count": 59,
   "id": "351ed37a-f220-404e-a2f5-d826fc0f0658",
   "metadata": {},
   "outputs": [],
   "source": [
    "s4 = pd.Series([3,4,5,6,6] , index = [2,4,6,8,10])"
   ]
  },
  {
   "cell_type": "code",
   "execution_count": 60,
   "id": "b842f901-b206-4047-b8e8-fe6826a9e5bb",
   "metadata": {},
   "outputs": [
    {
     "data": {
      "text/plain": [
       "2     3\n",
       "4     4\n",
       "6     5\n",
       "8     6\n",
       "10    6\n",
       "dtype: int64"
      ]
     },
     "execution_count": 60,
     "metadata": {},
     "output_type": "execute_result"
    }
   ],
   "source": [
    "s4"
   ]
  },
  {
   "cell_type": "code",
   "execution_count": 62,
   "id": "bc20579f-1bef-4e25-b9ff-49b6ccabf090",
   "metadata": {},
   "outputs": [],
   "source": [
    "\n",
    "s5 =pd.Series([35,54,34,454,345], index = [1,4,6,8,9])"
   ]
  },
  {
   "cell_type": "code",
   "execution_count": 63,
   "id": "2e0453d0-de80-49ce-8a7e-0aa4fffb1478",
   "metadata": {},
   "outputs": [
    {
     "data": {
      "text/plain": [
       "1     35\n",
       "4     54\n",
       "6     34\n",
       "8    454\n",
       "9    345\n",
       "dtype: int64"
      ]
     },
     "execution_count": 63,
     "metadata": {},
     "output_type": "execute_result"
    }
   ],
   "source": [
    "s5"
   ]
  },
  {
   "cell_type": "code",
   "execution_count": 65,
   "id": "a51504b8-d966-4a5f-ae82-dcd84040acf0",
   "metadata": {},
   "outputs": [
    {
     "name": "stderr",
     "output_type": "stream",
     "text": [
      "/tmp/ipykernel_70/937876903.py:1: FutureWarning: The series.append method is deprecated and will be removed from pandas in a future version. Use pandas.concat instead.\n",
      "  s6 = s4.append(s5)\n"
     ]
    }
   ],
   "source": [
    "s6 = s4.append(s5)"
   ]
  },
  {
   "cell_type": "code",
   "execution_count": 68,
   "id": "92cc2d9f-a8c0-4f02-a936-5c96763f9bd3",
   "metadata": {},
   "outputs": [
    {
     "data": {
      "text/plain": [
       "2       3\n",
       "4       4\n",
       "6       5\n",
       "8       6\n",
       "10      6\n",
       "1      35\n",
       "4      54\n",
       "6      34\n",
       "8     454\n",
       "9     345\n",
       "dtype: int64"
      ]
     },
     "execution_count": 68,
     "metadata": {},
     "output_type": "execute_result"
    }
   ],
   "source": [
    "\n",
    "s6"
   ]
  },
  {
   "cell_type": "code",
   "execution_count": 73,
   "id": "73c784e9-d3cb-4283-88bd-c2e65fda4dca",
   "metadata": {},
   "outputs": [
    {
     "data": {
      "text/plain": [
       "35"
      ]
     },
     "execution_count": 73,
     "metadata": {},
     "output_type": "execute_result"
    }
   ],
   "source": [
    "# here we can see that named indexes replacedd the default indexes\n",
    "s6[1]"
   ]
  },
  {
   "cell_type": "code",
   "execution_count": 74,
   "id": "b6deb3ae-33b7-4d6f-9d7c-7c882501b12b",
   "metadata": {},
   "outputs": [
    {
     "data": {
      "text/plain": [
       "8      6\n",
       "8    454\n",
       "dtype: int64"
      ]
     },
     "execution_count": 74,
     "metadata": {},
     "output_type": "execute_result"
    }
   ],
   "source": [
    "s6[8]"
   ]
  },
  {
   "cell_type": "code",
   "execution_count": 75,
   "id": "0cb7e7e4-84d7-4bb3-85f8-3baaf588c286",
   "metadata": {},
   "outputs": [
    {
     "data": {
      "text/plain": [
       "6     5\n",
       "6    34\n",
       "dtype: int64"
      ]
     },
     "execution_count": 75,
     "metadata": {},
     "output_type": "execute_result"
    }
   ],
   "source": [
    "s6[6]"
   ]
  },
  {
   "cell_type": "code",
   "execution_count": 77,
   "id": "98a9963d-d00a-4f5b-b9fa-662d4c73ebc1",
   "metadata": {},
   "outputs": [
    {
     "name": "stderr",
     "output_type": "stream",
     "text": [
      "/tmp/ipykernel_70/809653465.py:2: FutureWarning: The behavior of `series[i:j]` with an integer-dtype index is deprecated. In a future version, this will be treated as *label-based* indexing, consistent with e.g. `series[i]` lookups. To retain the old behavior, use `series.iloc[i:j]`. To get the future behavior, use `series.loc[i:j]`.\n",
      "  s6[0:5]\n"
     ]
    },
    {
     "data": {
      "text/plain": [
       "2     3\n",
       "4     4\n",
       "6     5\n",
       "8     6\n",
       "10    6\n",
       "dtype: int64"
      ]
     },
     "execution_count": 77,
     "metadata": {},
     "output_type": "execute_result"
    }
   ],
   "source": [
    "#Int this case it will consider the default indeces \n",
    "s6[0:5]"
   ]
  },
  {
   "cell_type": "code",
   "execution_count": 81,
   "id": "b2f55cb4-b605-4553-860c-065d8de07577",
   "metadata": {},
   "outputs": [
    {
     "data": {
      "text/plain": [
       "(2     3\n",
       " 4     4\n",
       " 6     5\n",
       " 8     6\n",
       " 10    6\n",
       " dtype: int64,\n",
       " 1     35\n",
       " 4     54\n",
       " 6     34\n",
       " 8    454\n",
       " 9    345\n",
       " dtype: int64)"
      ]
     },
     "execution_count": 81,
     "metadata": {},
     "output_type": "execute_result"
    }
   ],
   "source": [
    "s4,s5"
   ]
  },
  {
   "cell_type": "code",
   "execution_count": 85,
   "id": "13492b7f-2136-4f1d-9911-4de51b180eeb",
   "metadata": {},
   "outputs": [
    {
     "data": {
      "text/plain": [
       "1        NaN\n",
       "2        NaN\n",
       "4      216.0\n",
       "6      170.0\n",
       "8     2724.0\n",
       "9        NaN\n",
       "10       NaN\n",
       "dtype: float64"
      ]
     },
     "execution_count": 85,
     "metadata": {},
     "output_type": "execute_result"
    }
   ],
   "source": [
    "##Only multiply which have same indeces\n",
    "\n",
    "s4*s5"
   ]
  },
  {
   "cell_type": "code",
   "execution_count": 86,
   "id": "e8097699-dcd1-416a-896f-a562a1b58594",
   "metadata": {},
   "outputs": [
    {
     "data": {
      "text/plain": [
       "1       NaN\n",
       "2       NaN\n",
       "4      58.0\n",
       "6      39.0\n",
       "8     460.0\n",
       "9       NaN\n",
       "10      NaN\n",
       "dtype: float64"
      ]
     },
     "execution_count": 86,
     "metadata": {},
     "output_type": "execute_result"
    }
   ],
   "source": [
    "\n",
    "s4+s5"
   ]
  },
  {
   "cell_type": "code",
   "execution_count": 87,
   "id": "536f8bad-8670-4d74-b1d1-6db3787a3247",
   "metadata": {},
   "outputs": [
    {
     "data": {
      "text/plain": [
       "1          NaN\n",
       "2          NaN\n",
       "4     0.074074\n",
       "6     0.147059\n",
       "8     0.013216\n",
       "9          NaN\n",
       "10         NaN\n",
       "dtype: float64"
      ]
     },
     "execution_count": 87,
     "metadata": {},
     "output_type": "execute_result"
    }
   ],
   "source": [
    "\n",
    "s4/s5\n"
   ]
  },
  {
   "cell_type": "code",
   "execution_count": null,
   "id": "b099c65c-c2fb-4c0b-ad66-3341ee0c53d5",
   "metadata": {},
   "outputs": [],
   "source": []
  }
 ],
 "metadata": {
  "kernelspec": {
   "display_name": "Python 3 (ipykernel)",
   "language": "python",
   "name": "python3"
  },
  "language_info": {
   "codemirror_mode": {
    "name": "ipython",
    "version": 3
   },
   "file_extension": ".py",
   "mimetype": "text/x-python",
   "name": "python",
   "nbconvert_exporter": "python",
   "pygments_lexer": "ipython3",
   "version": "3.10.8"
  }
 },
 "nbformat": 4,
 "nbformat_minor": 5
}
